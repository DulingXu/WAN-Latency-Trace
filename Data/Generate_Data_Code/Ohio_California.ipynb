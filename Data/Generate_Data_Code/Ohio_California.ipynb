{
 "cells": [
  {
   "cell_type": "code",
   "execution_count": null,
   "metadata": {},
   "outputs": [],
   "source": [
    "import numpy as np\n",
    "import matplotlib.pyplot as plt\n",
    "import pandas as pd\n",
    "from scipy.interpolate import PchipInterpolator\n",
    "\n",
    "percentiles = [10, 25, 50, 75, 90, 98, 99]\n",
    "values = [146.78, 147.16, 147.67, 148.1, 150.0,  151.93,  152.1]\n",
    "target_average = 148.04\n",
    "\n",
    "\n",
    "\n",
    "# 生成插值位置\n",
    "x_new = np.linspace(0, 100, 100000, dtype=np.float64)\n",
    "\n",
    "# 创建 PCHIP 插值对象\n",
    "pchip = PchipInterpolator(percentiles, values)\n",
    "\n",
    "# 初始插值数据\n",
    "data = pchip(x_new)\n",
    "\n",
    "# 多次迭代调整数据\n",
    "for _ in range(10):  # 迭代次数\n",
    "    average_error = target_average - np.mean(data)\n",
    "    percentile_indices = [0] + [int(p / 100 * len(data)) for p in percentiles] + [len(data)]\n",
    "    for i in range(len(percentile_indices) - 1):\n",
    "        start_index = percentile_indices[i]\n",
    "        end_index = percentile_indices[i + 1]\n",
    "        adjustment_indices = np.arange(start_index, end_index)\n",
    "        data[adjustment_indices] += average_error / len(adjustment_indices)\n",
    "\n",
    "# 打印调整后的均值\n",
    "print(\"调整后数据均值:\", np.mean(data))\n",
    "\n",
    "# 计算生成数据的各个分位数\n",
    "calculated_percentiles = np.percentile(data, percentiles)\n",
    "\n",
    "# 打印计算出的分位数\n",
    "print(\"目标分位数值:\", values)\n",
    "print(\"计算出的分位数值:\", calculated_percentiles)\n",
    "\n",
    "# 绘制调整后的数据\n",
    "plt.figure(figsize=(10, 6))\n",
    "plt.plot(x_new, data, label='Adjusted Data')\n",
    "plt.scatter(percentiles, values, color='red', label='Data Points')\n",
    "plt.xlabel('Percentile')\n",
    "plt.ylabel('Value')\n",
    "plt.legend()\n",
    "plt.show()"
   ]
  },
  {
   "cell_type": "code",
   "execution_count": null,
   "metadata": {},
   "outputs": [],
   "source": [
    "df = pd.DataFrame(data, columns=['Value'])\n",
    "df.to_excel('Ohio_California.xlsx', index=False)"
   ]
  }
 ],
 "metadata": {
  "language_info": {
   "name": "python"
  }
 },
 "nbformat": 4,
 "nbformat_minor": 2
}
